{
 "cells": [
  {
   "cell_type": "code",
   "execution_count": null,
   "metadata": {},
   "outputs": [],
   "source": [
    "import polars as pl\n",
    "df = (\n",
    "    pl.read_csv(\"../temp_data/weekly-london-cycles-db/data/*.csv\")\n",
    "    .with_columns(pl.col(\"query_time\").str.strptime(pl.Datetime, \"%Y-%m-%dT%H:%M:%S%.f\"))\n",
    "    .with_columns(\n",
    "        pl.col(\"query_time\").dt.round(\"15m\").alias(\"rounded_time\"),\n",
    "    )\n",
    "    .with_columns(\n",
    "        pl.col(\"lat\").cast(pl.Float32),\n",
    "        pl.col(\"lon\").cast(pl.Float32),\n",
    "        pl.col(\"bikes\").cast(pl.Int32),\n",
    "        pl.col(\"docks\").cast(pl.Int32),\n",
    "        pl.col(\"empty_docks\").cast(pl.Int32),\n",
    "        ((pl.col(\"docks\") - pl.col(\"empty_docks\")) / pl.col(\"docks\")).alias(\"occupancy_ratio\"),\n",
    "    )\n",
    ")"
   ]
  },
  {
   "cell_type": "code",
   "execution_count": null,
   "metadata": {},
   "outputs": [],
   "source": [
    "stations = df.unique(subset=[\"place_id\", \"lat\", \"lon\"])"
   ]
  },
  {
   "cell_type": "code",
   "execution_count": null,
   "metadata": {},
   "outputs": [],
   "source": [
    "stat = stations.filter(pl.col(\"lat\")>41.5)"
   ]
  },
  {
   "cell_type": "code",
   "execution_count": null,
   "metadata": {},
   "outputs": [],
   "source": [
    "import matplotlib.pyplot as plt\n",
    "\n",
    "plt.figure(figsize=(10, 6))\n",
    "plt.scatter(stat['lon'], stat['lat'], c='blue', marker='o', label='Stations')\n",
    "plt.xlabel('Longitude')\n",
    "plt.ylabel('Latitude')\n",
    "plt.title('Geographical Distribution of Stations')\n",
    "plt.legend()\n",
    "plt.show()"
   ]
  },
  {
   "cell_type": "code",
   "execution_count": null,
   "metadata": {},
   "outputs": [],
   "source": [
    "min_lon, max_lon = stat['lon'].min(), stat['lon'].max()\n",
    "min_lat, max_lat = stat['lat'].min(), stat['lat'].max()\n",
    "\n",
    "print(f\"Longitude range: {min_lon} to {max_lon}\")\n",
    "print(f\"Latitude range: {min_lat} to {max_lat}\")"
   ]
  },
  {
   "cell_type": "code",
   "execution_count": null,
   "metadata": {},
   "outputs": [],
   "source": [
    "# Divide the area into a grid\n",
    "import numpy as np\n",
    "lon_buffer = (max_lon - min_lon) * 0.02\n",
    "lat_buffer = (max_lat - min_lat) * 0.02\n",
    "\n",
    "n_lon, n_lat = 4, 4\n",
    "lon_bins = np.linspace(min_lon - lon_buffer,  max_lon + lon_buffer, n_lon)\n",
    "lat_bins = np.linspace( min_lat - lat_buffer, max_lat + lat_buffer,  n_lat)\n",
    "\n",
    "print(lon_bins)\n",
    "print(lat_bins)"
   ]
  },
  {
   "cell_type": "code",
   "execution_count": null,
   "metadata": {},
   "outputs": [],
   "source": [
    "# plot the grid with stations\n",
    "\n",
    "plt.figure(figsize=(10, 6))\n",
    "plt.scatter(stat['lon'], stat['lat'], c='blue', marker='o', label='Stations')\n",
    "plt.xlabel('Longitude')\n",
    "plt.ylabel('Latitude')\n",
    "plt.title('Geographical Distribution of Stations')\n",
    "plt.legend()\n",
    "\n",
    "\n",
    "plt.show()"
   ]
  },
  {
   "cell_type": "code",
   "execution_count": null,
   "metadata": {},
   "outputs": [],
   "source": [
    "lon_bins, lat_bins"
   ]
  },
  {
   "cell_type": "code",
   "execution_count": null,
   "metadata": {},
   "outputs": [],
   "source": [
    "import matplotlib.pyplot as plt\n",
    "import polars as pl\n",
    "import numpy as np\n",
    "\n",
    "lon_intervals = list(zip(lon_bins[:-1], lon_bins[1:]))\n",
    "lat_intervals = list(zip(lat_bins[:-1], lat_bins[1:]))\n",
    "\n",
    "# plot the grid with stations\n",
    "plt.figure(figsize=(10, 6), dpi=150)\n",
    "plt.xlabel('Longitude')\n",
    "plt.ylabel('Latitude')\n",
    "plt.title('Geographical Distribution of Stations')\n",
    "\n",
    "# Create empty lists to store legend elements\n",
    "legend_elements = []\n",
    "legend_labels = []\n",
    "\n",
    "for lat_interval, name in zip(lat_intervals, ['south', '', 'north']):\n",
    "    for lon_interval, name2 in zip(lon_intervals, ['west', '', 'east']):\n",
    "        plt.text(\n",
    "            np.mean(lon_interval), np.mean(lat_interval), f\"{name}{name2}\", \n",
    "            horizontalalignment='center', verticalalignment='center', \n",
    "            fontsize=12, fontweight='bold')\n",
    "        \n",
    "        filtered = stat.filter(\n",
    "            pl.col(\"lon\") > lon_interval[0]).filter(\n",
    "            pl.col(\"lon\") < lon_interval[1]).filter(\n",
    "            pl.col(\"lat\") > lat_interval[0]).filter(\n",
    "            pl.col(\"lat\") < lat_interval[1])\n",
    "        if len(filtered) > 0:\n",
    "            \n",
    "            mean_lon = filtered['lon'].mean()\n",
    "            mean_lat = filtered['lat'].mean()\n",
    "\n",
    "            distances = filtered.with_columns(\n",
    "                ((pl.col(\"lon\") - mean_lon)**2 + (pl.col(\"lat\") - mean_lat)**2).alias(\"distance\")\n",
    "            )\n",
    "            \n",
    "            closest, closest_lon, closest_lat = distances.sort(\"distance\").select(pl.first(\"place_id\", \"lon\", \"lat\")).row(0)\n",
    "\n",
    "\n",
    "            \n",
    "\n",
    "            closest_scatter = plt.scatter(closest_lon, closest_lat, marker='o', color='black', s=70)\n",
    "\n",
    "            mean_scatter = plt.scatter(mean_lon, mean_lat, marker='x', color='blue', s=70)\n",
    "\n",
    "            scatter = plt.scatter(filtered['lon'], filtered['lat'], marker='.', s=50)\n",
    "                        \n",
    "            if 'Stations' not in legend_labels:\n",
    "                legend_elements.append(scatter)\n",
    "                legend_labels.append('Stations')\n",
    "                \n",
    "            if 'Closest to the mean' not in legend_labels:\n",
    "                legend_elements.append(closest_scatter)\n",
    "                legend_labels.append('Closest to the mean')\n",
    "                \n",
    "            if 'Mean point' not in legend_labels:\n",
    "                legend_elements.append(mean_scatter)\n",
    "                legend_labels.append('Mean point')\n",
    "\n",
    "\n",
    "for lon in lon_bins:\n",
    "    plt.axvline(lon, color='black', linestyle='--', lw=1, alpha=0.5)\n",
    "for lat in lat_bins:\n",
    "    plt.axhline(lat, color='black', linestyle='--', lw=1, alpha=0.5)\n",
    "    \n",
    "plt.legend(legend_elements, legend_labels, loc=4)\n",
    "plt.tight_layout()\n",
    "plt.savefig('geo-models.png')\n",
    "plt.show()\n"
   ]
  },
  {
   "cell_type": "code",
   "execution_count": null,
   "metadata": {},
   "outputs": [],
   "source": []
  }
 ],
 "metadata": {
  "kernelspec": {
   "display_name": "Python 3 (ipykernel)",
   "language": "python",
   "name": "python3"
  },
  "language_info": {
   "codemirror_mode": {
    "name": "ipython",
    "version": 3
   },
   "file_extension": ".py",
   "mimetype": "text/x-python",
   "name": "python",
   "nbconvert_exporter": "python",
   "pygments_lexer": "ipython3",
   "version": "3.10.12"
  }
 },
 "nbformat": 4,
 "nbformat_minor": 4
}
