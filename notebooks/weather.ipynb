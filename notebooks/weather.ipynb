{
 "cells": [
  {
   "cell_type": "code",
   "execution_count": null,
   "metadata": {},
   "outputs": [],
   "source": [
    "import datetime\n",
    "import polars as pl\n",
    "import json\n",
    "import numpy as np\n",
    "import os"
   ]
  },
  {
   "cell_type": "code",
   "execution_count": null,
   "metadata": {},
   "outputs": [],
   "source": [
    "max_date = datetime.datetime(2024, 7, 1, 0, 0)\n",
    "min_date = datetime.datetime(2022, 4, 29, 8, 45)\n",
    "\n",
    "weather_api_digit_resolution = 2"
   ]
  },
  {
   "cell_type": "code",
   "execution_count": null,
   "metadata": {},
   "outputs": [],
   "source": [
    "weather_api_key = os.environ.get(\"WEATHER_API_KEY\")"
   ]
  },
  {
   "cell_type": "code",
   "execution_count": null,
   "metadata": {},
   "outputs": [],
   "source": [
    "with open(\"../prediction_service/stations_data.json\", \"r\") as f:\n",
    "    stations_data = json.load(f)\n",
    "stations_data_df = pl.DataFrame(stations_data).with_columns(\n",
    "    pl.col(\"lat\").round(weather_api_digit_resolution).alias(\"lat_rounded\"),\n",
    "    pl.col(\"lon\").round(weather_api_digit_resolution).alias(\"lon_rounded\"),\n",
    ")\n",
    "stations_data_df"
   ]
  },
  {
   "cell_type": "code",
   "execution_count": null,
   "metadata": {},
   "outputs": [],
   "source": [
    "min_lat = stations_data_df[\"lat_rounded\"].min()\n",
    "max_lat = stations_data_df[\"lat_rounded\"].max() + 10 ** -weather_api_digit_resolution\n",
    "min_lon = stations_data_df[\"lon_rounded\"].min()\n",
    "max_lon = stations_data_df[\"lon_rounded\"].max() + 10 ** -weather_api_digit_resolution\n",
    "\n",
    "lat_range = np.arange(min_lat, max_lat, 10 ** -weather_api_digit_resolution)\n",
    "lon_range = np.arange(min_lon, max_lon, 10 ** -weather_api_digit_resolution)\n",
    "\n",
    "from itertools import product, pairwise\n",
    "\n",
    "grid = product(\n",
    "    pairwise(lat_range),\n",
    "    pairwise(lon_range),\n",
    ")\n",
    "\n",
    "patches_with_stations = []\n",
    "\n",
    "for (min_lat, max_lat), (min_lon, max_lon) in grid:\n",
    "    stations_in_patch = stations_data_df.filter(\n",
    "        (stations_data_df[\"lat\"] > min_lat) & (stations_data_df[\"lat\"] <= max_lat) & \n",
    "        (stations_data_df[\"lon\"] > min_lon) & (stations_data_df[\"lon\"] <= max_lon)\n",
    "    )\n",
    "    if not stations_in_patch.is_empty():\n",
    "        patches_with_stations.append(\n",
    "            {\n",
    "                \"min_lat\": round(min_lat,2),\n",
    "                \"max_lat\": round(max_lat,2),\n",
    "                \"min_lon\": round(min_lon,2),\n",
    "                \"max_lon\": round(max_lon,2),\n",
    "                \"count\": stations_in_patch.shape[0],\n",
    "            }\n",
    "        )\n",
    "len(patches_with_stations)\n",
    "\n",
    "    "
   ]
  },
  {
   "cell_type": "code",
   "execution_count": null,
   "metadata": {},
   "outputs": [],
   "source": [
    "time_diff = max_date - min_date\n",
    "days = time_diff.days\n",
    "total_requests = days * len(patches_with_stations)\n",
    "\n",
    "total_requests"
   ]
  },
  {
   "cell_type": "code",
   "execution_count": null,
   "metadata": {},
   "outputs": [],
   "source": [
    "import requests\n",
    "\n",
    "url = \"http://api.weatherapi.com/v1/history.json\"\n",
    "\n",
    "for patch in patches_with_stations:\n",
    "    lat, lon = patch[\"min_lat\"], patch[\"min_lon\"]\n",
    "    file = open(f\"weather_data/{lat},{lon}.json\", \"w\")\n",
    "    for day in range(days):\n",
    "        date = min_date + datetime.timedelta(days=day)\n",
    "        querystring = {\n",
    "            \"key\": weather_api_key,\n",
    "            \"q\": f\"{patch['min_lat']},{patch['min_lon']}\",\n",
    "            \"dt\": date.strftime(\"%Y-%m-%d\"),\n",
    "        }\n",
    "\n",
    "        response = requests.request(\"GET\", url, params=querystring)\n",
    "        json.dump(response.json(), file)\n",
    "        file.write(\"\\n\")\n",
    "\n",
    "        break\n",
    "    file.close()\n",
    "    break\n",
    "        "
   ]
  },
  {
   "cell_type": "code",
   "execution_count": null,
   "metadata": {},
   "outputs": [],
   "source": [
    "import matplotlib.pyplot as plt\n",
    "from matplotlib.patches import Rectangle\n",
    "\n",
    "plt.scatter(stations_data_df[\"lon\"], stations_data_df[\"lat\"])\n",
    "max_patch_count = max(patches_with_stations, key=lambda x: x[\"count\"])[\"count\"]\n",
    "for patch in patches_with_stations:\n",
    "    rect = Rectangle(\n",
    "        (patch[\"min_lon\"], patch[\"min_lat\"]),\n",
    "        patch[\"max_lon\"] - patch[\"min_lon\"],\n",
    "        patch[\"max_lat\"] - patch[\"min_lat\"],\n",
    "        # fill=\"RED\",\n",
    "        # edgecolor=\"red\",\n",
    "        alpha=patch[\"count\"] / max_patch_count,\n",
    "        # linewidth=1 + 4 * patch[\"count\"] / max_patch_count,\n",
    "    )\n",
    "\n",
    "    plt.gca().add_patch(\n",
    "        rect)"
   ]
  },
  {
   "cell_type": "code",
   "execution_count": null,
   "metadata": {},
   "outputs": [],
   "source": []
  }
 ],
 "metadata": {
  "kernelspec": {
   "display_name": ".venv",
   "language": "python",
   "name": "python3"
  },
  "language_info": {
   "codemirror_mode": {
    "name": "ipython",
    "version": 3
   },
   "file_extension": ".py",
   "mimetype": "text/x-python",
   "name": "python",
   "nbconvert_exporter": "python",
   "pygments_lexer": "ipython3",
   "version": "3.10.12"
  }
 },
 "nbformat": 4,
 "nbformat_minor": 2
}
